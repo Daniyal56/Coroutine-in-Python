{
 "cells": [
  {
   "cell_type": "code",
   "execution_count": 1,
   "metadata": {},
   "outputs": [
    {
     "name": "stdout",
     "output_type": "stream",
     "text": [
      "Searching for prefix : Dear\n"
     ]
    }
   ],
   "source": [
    "def print_name(prefix):\n",
    "    print('Searching for prefix : {}'.format(prefix))\n",
    "    while True:\n",
    "        name = yield\n",
    "        if prefix in name:\n",
    "            print(name)\n",
    "            \n",
    "r = print_name('Dear')\n",
    "r.__next__()\n"
   ]
  },
  {
   "cell_type": "code",
   "execution_count": 2,
   "metadata": {},
   "outputs": [
    {
     "name": "stdout",
     "output_type": "stream",
     "text": [
      "Dear Ali\n"
     ]
    }
   ],
   "source": [
    "r.send('Ali')\n",
    "r.send('Dear Ali')"
   ]
  },
  {
   "cell_type": "code",
   "execution_count": 4,
   "metadata": {},
   "outputs": [
    {
     "name": "stdout",
     "output_type": "stream",
     "text": [
      "Seraching for prefix.... : Dear\n"
     ]
    }
   ],
   "source": [
    "def print_name(prefix):\n",
    "    print('Seraching for prefix.... : {}'.format(prefix))\n",
    "    while True:\n",
    "        name = yield\n",
    "        if prefix in name:\n",
    "            print(name)\n",
    "            \n",
    "r = print_name('Dear')\n",
    "r.__next__() "
   ]
  },
  {
   "cell_type": "code",
   "execution_count": 5,
   "metadata": {},
   "outputs": [
    {
     "name": "stdout",
     "output_type": "stream",
     "text": [
      "Dear Ali & Moiz\n"
     ]
    }
   ],
   "source": [
    "r.send('Ali')\n",
    "r.send('Moiz')\n",
    "r.send('Dear Ali & Moiz')"
   ]
  },
  {
   "cell_type": "code",
   "execution_count": 6,
   "metadata": {},
   "outputs": [
    {
     "name": "stdout",
     "output_type": "stream",
     "text": [
      "Searching for Prefix : Dear\n"
     ]
    }
   ],
   "source": [
    "def print_name(prefix):\n",
    "    print('Searching for Prefix : {}'.format(prefix))\n",
    "    while True:\n",
    "        name = yield\n",
    "        if prefix in name:\n",
    "            print(name)\n",
    "            \n",
    "r = print_name('Dear')\n",
    "r.__next__()"
   ]
  },
  {
   "cell_type": "code",
   "execution_count": 7,
   "metadata": {},
   "outputs": [
    {
     "name": "stdout",
     "output_type": "stream",
     "text": [
      "Dear Ali\n"
     ]
    }
   ],
   "source": [
    "r.send('Ali')\n",
    "r.send('Dear Ali')"
   ]
  },
  {
   "cell_type": "code",
   "execution_count": 68,
   "metadata": {},
   "outputs": [
    {
     "name": "stdout",
     "output_type": "stream",
     "text": [
      "Serching for Prefix : Dear\n"
     ]
    }
   ],
   "source": [
    "def print_name(prefix):\n",
    "    print('Serching for Prefix : {}'.format(prefix))\n",
    "    try:\n",
    "        while True:\n",
    "            name = yield\n",
    "            if prefix in name:\n",
    "                print(name)\n",
    "    except GeneratorExit:\n",
    "        print('Closing!')\n",
    "        \n",
    "r = print_name('Dear')\n",
    "r.__next__()"
   ]
  },
  {
   "cell_type": "code",
   "execution_count": 69,
   "metadata": {},
   "outputs": [
    {
     "name": "stdout",
     "output_type": "stream",
     "text": [
      "Dear Ali\n",
      "Closing!\n"
     ]
    }
   ],
   "source": [
    "r.send('Ali')\n",
    "r.send('Dear Ali')\n",
    "r.close()"
   ]
  },
  {
   "cell_type": "code",
   "execution_count": 79,
   "metadata": {},
   "outputs": [],
   "source": [
    "def producer(sentence,next_c):\n",
    "    \n",
    "    tokens = sentence.split(' ')\n",
    "    for token in tokens:\n",
    "        next_c.send(token)\n",
    "    next_c.close()\n",
    "def pattern_filter(pattern='ing', next_c=None):\n",
    "    print('Serching for prefix : {}'.format(pattern))\n",
    "    \n",
    "    try:\n",
    "        while True:\n",
    "            token = yield\n",
    "            if pattern in token:\n",
    "                next_c.send(token)\n",
    "    except GeneratorExit:\n",
    "        print('Done with Filtering')\n",
    "def print_token():\n",
    "    \n",
    "    print(\"I'm sink, I'll print tokens\")\n",
    "    try:\n",
    "        while True:\n",
    "            token = yield\n",
    "            print(token)\n",
    "    except GeneratorExit:\n",
    "        print('Done with printing!')\n",
    "                "
   ]
  },
  {
   "cell_type": "code",
   "execution_count": 83,
   "metadata": {},
   "outputs": [
    {
     "name": "stdout",
     "output_type": "stream",
     "text": [
      "Done with printing!\n",
      "I'm sink, I'll print tokens\n",
      "Serching for prefix : ing\n"
     ]
    }
   ],
   "source": [
    "r = print_token()\n",
    "r.__next__()\n",
    "x = pattern_filter(next_c=r)\n",
    "x.__next__()"
   ]
  },
  {
   "cell_type": "code",
   "execution_count": 82,
   "metadata": {},
   "outputs": [
    {
     "name": "stdout",
     "output_type": "stream",
     "text": [
      "ruuning\n",
      "behing\n",
      "moving\n",
      "Done with Filtering\n"
     ]
    }
   ],
   "source": [
    "sentence = 'Bob is ruuning behing a fast moving car'\n",
    "producer(sentence,x)"
   ]
  },
  {
   "cell_type": "code",
   "execution_count": 87,
   "metadata": {},
   "outputs": [
    {
     "name": "stdout",
     "output_type": "stream",
     "text": [
      "Done With filtering\n",
      "I'm sink I'll print later\n",
      "Serching for prefix :ing\n",
      "moving\n",
      "Done With filtering\n"
     ]
    }
   ],
   "source": [
    "def producer(sentence, next_c):\n",
    "    tokens = sentence.split(' ')\n",
    "    for token in tokens:\n",
    "        next_c.send(token)\n",
    "    next_c.close()\n",
    "    \n",
    "def pattern_filter(pattern='ing', next_c=None):\n",
    "    print('Serching for prefix :{}'.format(pattern))\n",
    "    try:\n",
    "        while True:\n",
    "            token = yield\n",
    "            if pattern in token:\n",
    "                next_c.send(token)\n",
    "    except GeneratorExit:\n",
    "        print('Done With filtering')\n",
    "        \n",
    "def print_token():\n",
    "    \n",
    "    print(\"I'm sink I'll print later\")\n",
    "    try:\n",
    "        while True:\n",
    "            token = yield\n",
    "            print(token)\n",
    "    except GeneratorExit:\n",
    "        print('Done With filtering')\n",
    "        \n",
    "r = print_token()\n",
    "r.__next__()\n",
    "x = pattern_filter(next_c = r)\n",
    "x.__next__()\n",
    "sentence='He is moving too fast'\n",
    "producer(sentence,x)"
   ]
  }
 ],
 "metadata": {
  "kernelspec": {
   "display_name": "Python 3",
   "language": "python",
   "name": "python3"
  },
  "language_info": {
   "codemirror_mode": {
    "name": "ipython",
    "version": 3
   },
   "file_extension": ".py",
   "mimetype": "text/x-python",
   "name": "python",
   "nbconvert_exporter": "python",
   "pygments_lexer": "ipython3",
   "version": "3.7.3"
  }
 },
 "nbformat": 4,
 "nbformat_minor": 2
}
